{
 "cells": [
  {
   "cell_type": "markdown",
   "id": "d1a38675",
   "metadata": {
    "id": "d1a38675"
   },
   "source": [
    "<h1 style=\"color:purple\">ANN - Car Sales Price Prediction</h1>"
   ]
  },
  {
   "cell_type": "markdown",
   "id": "12540841",
   "metadata": {
    "id": "12540841"
   },
   "source": [
    "As a vehicle salesperson, you would like to create a model that can estimate the overall amount that consumers would spend given the following characteristics:\n",
    "<b>customer name, customer email, country, gender, age, annual salary, credit card debt, and net worth</b>\n"
   ]
  },
  {
   "cell_type": "markdown",
   "id": "3b45b050",
   "metadata": {
    "id": "3b45b050"
   },
   "source": [
    "<img src=\"https://thumbs.dreamstime.com/b/wide-angle-view-empty-car-dealership-showroom-interior-multiple-seat-paris-france-oct-cars-inside-focus-black-170872291.jpg\" style=\"float:left;width:480px;height:400px;\" />"
   ]
  },
  {
   "cell_type": "code",
   "execution_count": 1,
   "id": "b67f7962",
   "metadata": {
    "executionInfo": {
     "elapsed": 1563,
     "status": "ok",
     "timestamp": 1685797953698,
     "user": {
      "displayName": "Priyam Saha",
      "userId": "06417421838738014072"
     },
     "user_tz": -330
    },
    "id": "b67f7962"
   },
   "outputs": [],
   "source": [
    "import pandas as pd\n",
    "import numpy as np\n",
    "import matplotlib.pyplot as plt\n",
    "import seaborn as sns"
   ]
  },
  {
   "cell_type": "code",
   "execution_count": 2,
   "id": "eQEUwQVDY1vl",
   "metadata": {
    "colab": {
     "base_uri": "https://localhost:8080/"
    },
    "executionInfo": {
     "elapsed": 22137,
     "status": "ok",
     "timestamp": 1685797986129,
     "user": {
      "displayName": "Priyam Saha",
      "userId": "06417421838738014072"
     },
     "user_tz": -330
    },
    "id": "eQEUwQVDY1vl",
    "outputId": "1535c802-d134-49d9-f9e6-f678270c44fb"
   },
   "outputs": [
    {
     "ename": "ModuleNotFoundError",
     "evalue": "No module named 'google.colab'",
     "output_type": "error",
     "traceback": [
      "\u001b[0;31m---------------------------------------------------------------------------\u001b[0m",
      "\u001b[0;31mModuleNotFoundError\u001b[0m                       Traceback (most recent call last)",
      "\u001b[0;32m/var/folders/63/380n7grx55581z5sjmyqx8xh0000gn/T/ipykernel_43428/4057155941.py\u001b[0m in \u001b[0;36m<module>\u001b[0;34m\u001b[0m\n\u001b[0;32m----> 1\u001b[0;31m \u001b[0;32mfrom\u001b[0m \u001b[0mgoogle\u001b[0m\u001b[0;34m.\u001b[0m\u001b[0mcolab\u001b[0m \u001b[0;32mimport\u001b[0m \u001b[0mdrive\u001b[0m\u001b[0;34m\u001b[0m\u001b[0;34m\u001b[0m\u001b[0m\n\u001b[0m\u001b[1;32m      2\u001b[0m \u001b[0;34m\u001b[0m\u001b[0m\n\u001b[1;32m      3\u001b[0m \u001b[0;34m\u001b[0m\u001b[0m\n\u001b[1;32m      4\u001b[0m \u001b[0mdrive\u001b[0m\u001b[0;34m.\u001b[0m\u001b[0mmount\u001b[0m\u001b[0;34m(\u001b[0m\u001b[0;34m'/content/drive'\u001b[0m\u001b[0;34m)\u001b[0m\u001b[0;34m\u001b[0m\u001b[0;34m\u001b[0m\u001b[0m\n",
      "\u001b[0;31mModuleNotFoundError\u001b[0m: No module named 'google.colab'"
     ]
    }
   ],
   "source": [
    "from google.colab import drive\n",
    "\n",
    "\n",
    "drive.mount('/content/drive')"
   ]
  },
  {
   "cell_type": "code",
   "execution_count": null,
   "id": "98d26d29",
   "metadata": {
    "executionInfo": {
     "elapsed": 725,
     "status": "ok",
     "timestamp": 1685798090516,
     "user": {
      "displayName": "Priyam Saha",
      "userId": "06417421838738014072"
     },
     "user_tz": -330
    },
    "id": "98d26d29"
   },
   "outputs": [],
   "source": [
    "df = pd.read_csv(\"/content/drive/MyDrive/car_purchasing.csv\",encoding='ISO-8859-1')"
   ]
  },
  {
   "cell_type": "code",
   "execution_count": null,
   "id": "1xYZDa6PY1E3",
   "metadata": {
    "id": "1xYZDa6PY1E3"
   },
   "outputs": [],
   "source": []
  },
  {
   "cell_type": "markdown",
   "id": "3fcc435e",
   "metadata": {
    "id": "3fcc435e"
   },
   "source": [
    "<h2 style=\"color:cornflowerblue\">Feature Engineering</h2>"
   ]
  },
  {
   "cell_type": "code",
   "execution_count": null,
   "id": "f8899e7e",
   "metadata": {
    "colab": {
     "base_uri": "https://localhost:8080/",
     "height": 302
    },
    "executionInfo": {
     "elapsed": 670,
     "status": "ok",
     "timestamp": 1685798096218,
     "user": {
      "displayName": "Priyam Saha",
      "userId": "06417421838738014072"
     },
     "user_tz": -330
    },
    "id": "f8899e7e",
    "outputId": "4724b5be-86ef-4a08-ce20-6294f79cc24d"
   },
   "outputs": [],
   "source": [
    "df.head()"
   ]
  },
  {
   "cell_type": "code",
   "execution_count": null,
   "id": "c4d17e9b",
   "metadata": {
    "executionInfo": {
     "elapsed": 35,
     "status": "ok",
     "timestamp": 1685798097017,
     "user": {
      "displayName": "Priyam Saha",
      "userId": "06417421838738014072"
     },
     "user_tz": -330
    },
    "id": "c4d17e9b"
   },
   "outputs": [],
   "source": [
    "df = df.drop(['customer name', 'customer e-mail', 'country'],axis=1)"
   ]
  },
  {
   "cell_type": "code",
   "execution_count": null,
   "id": "928e7327",
   "metadata": {
    "colab": {
     "base_uri": "https://localhost:8080/",
     "height": 206
    },
    "executionInfo": {
     "elapsed": 35,
     "status": "ok",
     "timestamp": 1685798097018,
     "user": {
      "displayName": "Priyam Saha",
      "userId": "06417421838738014072"
     },
     "user_tz": -330
    },
    "id": "928e7327",
    "outputId": "0f700afa-7c16-440e-cc56-3c4efc025605"
   },
   "outputs": [],
   "source": [
    "df.head()"
   ]
  },
  {
   "cell_type": "code",
   "execution_count": null,
   "id": "c9578541",
   "metadata": {
    "colab": {
     "base_uri": "https://localhost:8080/"
    },
    "executionInfo": {
     "elapsed": 21,
     "status": "ok",
     "timestamp": 1685798097718,
     "user": {
      "displayName": "Priyam Saha",
      "userId": "06417421838738014072"
     },
     "user_tz": -330
    },
    "id": "c9578541",
    "outputId": "fc26373f-48a5-4eed-ec79-e8061fd44b1b"
   },
   "outputs": [],
   "source": [
    "df.isnull().sum()"
   ]
  },
  {
   "cell_type": "code",
   "execution_count": null,
   "id": "7e3478bd",
   "metadata": {
    "colab": {
     "base_uri": "https://localhost:8080/",
     "height": 300
    },
    "executionInfo": {
     "elapsed": 20,
     "status": "ok",
     "timestamp": 1685798097719,
     "user": {
      "displayName": "Priyam Saha",
      "userId": "06417421838738014072"
     },
     "user_tz": -330
    },
    "id": "7e3478bd",
    "outputId": "4da3a003-dd4c-4500-d5a5-e1603bf823e2"
   },
   "outputs": [],
   "source": [
    "df.describe()"
   ]
  },
  {
   "cell_type": "code",
   "execution_count": null,
   "id": "655514b0",
   "metadata": {
    "colab": {
     "base_uri": "https://localhost:8080/",
     "height": 656
    },
    "executionInfo": {
     "elapsed": 1338,
     "status": "ok",
     "timestamp": 1685798099705,
     "user": {
      "displayName": "Priyam Saha",
      "userId": "06417421838738014072"
     },
     "user_tz": -330
    },
    "id": "655514b0",
    "outputId": "6ccd08a0-529a-4ab2-ee8a-5fcbbb12191f"
   },
   "outputs": [],
   "source": [
    "sns.distplot(df['car purchase amount'])\n",
    "plt.show()"
   ]
  },
  {
   "cell_type": "code",
   "execution_count": null,
   "id": "49b56dcb",
   "metadata": {
    "colab": {
     "base_uri": "https://localhost:8080/",
     "height": 430
    },
    "executionInfo": {
     "elapsed": 44,
     "status": "ok",
     "timestamp": 1685798099706,
     "user": {
      "displayName": "Priyam Saha",
      "userId": "06417421838738014072"
     },
     "user_tz": -330
    },
    "id": "49b56dcb",
    "outputId": "3e0d3bbe-43cc-429a-993c-b6d7151b49ae"
   },
   "outputs": [],
   "source": [
    "sns.countplot(df['gender'])\n",
    "plt.show()"
   ]
  },
  {
   "cell_type": "code",
   "execution_count": null,
   "id": "ad24638f",
   "metadata": {
    "colab": {
     "base_uri": "https://localhost:8080/"
    },
    "executionInfo": {
     "elapsed": 14,
     "status": "ok",
     "timestamp": 1685798100288,
     "user": {
      "displayName": "Priyam Saha",
      "userId": "06417421838738014072"
     },
     "user_tz": -330
    },
    "id": "ad24638f",
    "outputId": "e6705107-5c9b-443e-c346-796b55d250ea"
   },
   "outputs": [],
   "source": [
    "df.corr()['car purchase amount'].sort_values(ascending = False)"
   ]
  },
  {
   "cell_type": "markdown",
   "id": "439ef5e3",
   "metadata": {
    "id": "439ef5e3"
   },
   "source": [
    "In data science, negative correlation refers to a relationship between two variables where as one variable increases, the other variable tends to decrease. It implies that when the value of one feature increases, the value of the output (or another feature) decreases, and vice versa."
   ]
  },
  {
   "cell_type": "code",
   "execution_count": null,
   "id": "cbe99747",
   "metadata": {
    "colab": {
     "base_uri": "https://localhost:8080/",
     "height": 449
    },
    "executionInfo": {
     "elapsed": 1153,
     "status": "ok",
     "timestamp": 1685798105779,
     "user": {
      "displayName": "Priyam Saha",
      "userId": "06417421838738014072"
     },
     "user_tz": -330
    },
    "id": "cbe99747",
    "outputId": "a01c5e2c-3c81-482f-d273-a5697c364649"
   },
   "outputs": [],
   "source": [
    "df.groupby('age').mean()['car purchase amount'].plot()\n",
    "plt.show()"
   ]
  },
  {
   "cell_type": "markdown",
   "id": "341d4969",
   "metadata": {
    "id": "341d4969"
   },
   "source": [
    "<h2 style=\"color:cornflowerblue\">Train Test Split</h2>"
   ]
  },
  {
   "cell_type": "code",
   "execution_count": null,
   "id": "6dcb345b",
   "metadata": {
    "executionInfo": {
     "elapsed": 3,
     "status": "ok",
     "timestamp": 1685798106387,
     "user": {
      "displayName": "Priyam Saha",
      "userId": "06417421838738014072"
     },
     "user_tz": -330
    },
    "id": "6dcb345b"
   },
   "outputs": [],
   "source": [
    "X = df.drop('car purchase amount',axis=1)\n",
    "y = df['car purchase amount']"
   ]
  },
  {
   "cell_type": "code",
   "execution_count": null,
   "id": "45ec8312",
   "metadata": {
    "executionInfo": {
     "elapsed": 2,
     "status": "ok",
     "timestamp": 1685798106877,
     "user": {
      "displayName": "Priyam Saha",
      "userId": "06417421838738014072"
     },
     "user_tz": -330
    },
    "id": "45ec8312"
   },
   "outputs": [],
   "source": [
    "from sklearn.model_selection import train_test_split"
   ]
  },
  {
   "cell_type": "code",
   "execution_count": null,
   "id": "8edee458",
   "metadata": {
    "executionInfo": {
     "elapsed": 2,
     "status": "ok",
     "timestamp": 1685798107375,
     "user": {
      "displayName": "Priyam Saha",
      "userId": "06417421838738014072"
     },
     "user_tz": -330
    },
    "id": "8edee458"
   },
   "outputs": [],
   "source": [
    "X_train, X_test, y_train, y_test = train_test_split(X,y,test_size=0.2,random_state=101)"
   ]
  },
  {
   "cell_type": "code",
   "execution_count": null,
   "id": "3ea90cd7",
   "metadata": {
    "colab": {
     "base_uri": "https://localhost:8080/"
    },
    "executionInfo": {
     "elapsed": 11,
     "status": "ok",
     "timestamp": 1685798108758,
     "user": {
      "displayName": "Priyam Saha",
      "userId": "06417421838738014072"
     },
     "user_tz": -330
    },
    "id": "3ea90cd7",
    "outputId": "b0da9fc8-23b5-4781-ebac-624e2b5efc3c"
   },
   "outputs": [],
   "source": [
    "print(X_train.shape, y_train.shape)"
   ]
  },
  {
   "cell_type": "code",
   "execution_count": null,
   "id": "914d4197",
   "metadata": {
    "colab": {
     "base_uri": "https://localhost:8080/"
    },
    "executionInfo": {
     "elapsed": 8,
     "status": "ok",
     "timestamp": 1685798109250,
     "user": {
      "displayName": "Priyam Saha",
      "userId": "06417421838738014072"
     },
     "user_tz": -330
    },
    "id": "914d4197",
    "outputId": "8ac2e4d0-9ec3-416e-c6be-c0d5627afb63"
   },
   "outputs": [],
   "source": [
    "print(X_test.shape, y_test.shape)"
   ]
  },
  {
   "cell_type": "markdown",
   "id": "1885a3cd",
   "metadata": {
    "id": "1885a3cd"
   },
   "source": [
    "<h2 style=\"color:cornflowerblue\">Scaling</h2>"
   ]
  },
  {
   "cell_type": "code",
   "execution_count": null,
   "id": "60ad3c57",
   "metadata": {
    "executionInfo": {
     "elapsed": 3,
     "status": "ok",
     "timestamp": 1685798111164,
     "user": {
      "displayName": "Priyam Saha",
      "userId": "06417421838738014072"
     },
     "user_tz": -330
    },
    "id": "60ad3c57"
   },
   "outputs": [],
   "source": [
    "from sklearn.preprocessing import MinMaxScaler"
   ]
  },
  {
   "cell_type": "code",
   "execution_count": null,
   "id": "78956ed8",
   "metadata": {
    "executionInfo": {
     "elapsed": 1,
     "status": "ok",
     "timestamp": 1685798111685,
     "user": {
      "displayName": "Priyam Saha",
      "userId": "06417421838738014072"
     },
     "user_tz": -330
    },
    "id": "78956ed8"
   },
   "outputs": [],
   "source": [
    "scaler = MinMaxScaler()"
   ]
  },
  {
   "cell_type": "code",
   "execution_count": null,
   "id": "e3dd3f03",
   "metadata": {
    "executionInfo": {
     "elapsed": 2,
     "status": "ok",
     "timestamp": 1685798112932,
     "user": {
      "displayName": "Priyam Saha",
      "userId": "06417421838738014072"
     },
     "user_tz": -330
    },
    "id": "e3dd3f03"
   },
   "outputs": [],
   "source": [
    "X_train= scaler.fit_transform(X_train)\n",
    "X_test = scaler.transform(X_test)"
   ]
  },
  {
   "cell_type": "markdown",
   "id": "e8da40d1",
   "metadata": {
    "id": "e8da40d1"
   },
   "source": [
    "<h2 style=\"color:cornflowerblue\">Creating Model</h2>"
   ]
  },
  {
   "cell_type": "code",
   "execution_count": null,
   "id": "0dadf300",
   "metadata": {
    "executionInfo": {
     "elapsed": 2950,
     "status": "ok",
     "timestamp": 1685798117179,
     "user": {
      "displayName": "Priyam Saha",
      "userId": "06417421838738014072"
     },
     "user_tz": -330
    },
    "id": "0dadf300"
   },
   "outputs": [],
   "source": [
    "from tensorflow.keras.models import Sequential\n",
    "from tensorflow.keras.layers import Dense, Activation\n",
    "from tensorflow.keras.optimizers import Adam"
   ]
  },
  {
   "cell_type": "code",
   "execution_count": null,
   "id": "19c089f9",
   "metadata": {
    "executionInfo": {
     "elapsed": 742,
     "status": "ok",
     "timestamp": 1685798117918,
     "user": {
      "displayName": "Priyam Saha",
      "userId": "06417421838738014072"
     },
     "user_tz": -330
    },
    "id": "19c089f9"
   },
   "outputs": [],
   "source": [
    "model = Sequential()\n",
    "\n",
    "model.add(Dense(5,activation='relu'))\n",
    "model.add(Dense(38,activation='relu'))\n",
    "model.add(Dense(50,activation='relu'))\n",
    "model.add(Dense(20,activation='relu'))\n",
    "model.add(Dense(20,activation='relu'))\n",
    "model.add(Dense(20,activation='relu'))\n",
    "model.add(Dense(20,activation='relu'))\n",
    "model.add(Dense(1))\n",
    "\n",
    "model.compile(optimizer='adam',loss='mse')"
   ]
  },
  {
   "cell_type": "code",
   "execution_count": null,
   "id": "43597cd2",
   "metadata": {
    "colab": {
     "base_uri": "https://localhost:8080/"
    },
    "executionInfo": {
     "elapsed": 84374,
     "status": "ok",
     "timestamp": 1685798202279,
     "user": {
      "displayName": "Priyam Saha",
      "userId": "06417421838738014072"
     },
     "user_tz": -330
    },
    "id": "43597cd2",
    "outputId": "a17630b5-e645-4238-ad88-603714aa47ff"
   },
   "outputs": [],
   "source": [
    "#model training : \n",
    "model.fit(x=X_train,y=y_train.values,\n",
    "          validation_data=(X_test,y_test.values),\n",
    "          batch_size=50,epochs=500)"
   ]
  },
  {
   "cell_type": "code",
   "execution_count": null,
   "id": "c9054331",
   "metadata": {
    "colab": {
     "base_uri": "https://localhost:8080/",
     "height": 462
    },
    "executionInfo": {
     "elapsed": 102,
     "status": "ok",
     "timestamp": 1685798202280,
     "user": {
      "displayName": "Priyam Saha",
      "userId": "06417421838738014072"
     },
     "user_tz": -330
    },
    "id": "c9054331",
    "outputId": "abb97c27-a61a-49b2-cf83-d589d5e25d96"
   },
   "outputs": [],
   "source": [
    "losses = pd.DataFrame(model.history.history)\n",
    "losses.plot()\n",
    "# The below is an example of how the loss should decrease at the start and should get saturated down somewhere!"
   ]
  },
  {
   "cell_type": "markdown",
   "id": "348ae2f4",
   "metadata": {
    "id": "348ae2f4"
   },
   "source": [
    "<h2 style=\"color:cornflowerblue\">Model Evaluation</h2>"
   ]
  },
  {
   "cell_type": "code",
   "execution_count": null,
   "id": "d4122ac4",
   "metadata": {
    "executionInfo": {
     "elapsed": 94,
     "status": "ok",
     "timestamp": 1685798202281,
     "user": {
      "displayName": "Priyam Saha",
      "userId": "06417421838738014072"
     },
     "user_tz": -330
    },
    "id": "d4122ac4"
   },
   "outputs": [],
   "source": [
    "from sklearn.metrics import mean_squared_error,mean_absolute_error,explained_variance_score"
   ]
  },
  {
   "cell_type": "code",
   "execution_count": null,
   "id": "7fb34db8",
   "metadata": {
    "colab": {
     "base_uri": "https://localhost:8080/"
    },
    "executionInfo": {
     "elapsed": 969,
     "status": "ok",
     "timestamp": 1685798203157,
     "user": {
      "displayName": "Priyam Saha",
      "userId": "06417421838738014072"
     },
     "user_tz": -330
    },
    "id": "7fb34db8",
    "outputId": "64940c3d-aaaa-40b9-a202-d96018b9656a"
   },
   "outputs": [],
   "source": [
    "predictions = model.predict(X_test)"
   ]
  },
  {
   "cell_type": "code",
   "execution_count": null,
   "id": "41ccb0d9",
   "metadata": {
    "colab": {
     "base_uri": "https://localhost:8080/"
    },
    "executionInfo": {
     "elapsed": 81,
     "status": "ok",
     "timestamp": 1685798203159,
     "user": {
      "displayName": "Priyam Saha",
      "userId": "06417421838738014072"
     },
     "user_tz": -330
    },
    "id": "41ccb0d9",
    "outputId": "60b37d26-51fb-4f8b-a452-59517764d66d"
   },
   "outputs": [],
   "source": [
    "mean_absolute_error(y_test,predictions)"
   ]
  },
  {
   "cell_type": "code",
   "execution_count": null,
   "id": "4781ee10",
   "metadata": {
    "colab": {
     "base_uri": "https://localhost:8080/"
    },
    "executionInfo": {
     "elapsed": 79,
     "status": "ok",
     "timestamp": 1685798203160,
     "user": {
      "displayName": "Priyam Saha",
      "userId": "06417421838738014072"
     },
     "user_tz": -330
    },
    "id": "4781ee10",
    "outputId": "a8c5385f-26df-42f6-bc26-88a40901ab70"
   },
   "outputs": [],
   "source": [
    "explained_variance_score(y_test,predictions)\n",
    "# Best possible score is 1.0, lower values are worse."
   ]
  },
  {
   "cell_type": "code",
   "execution_count": null,
   "id": "333a58c1",
   "metadata": {
    "colab": {
     "base_uri": "https://localhost:8080/",
     "height": 447
    },
    "executionInfo": {
     "elapsed": 77,
     "status": "ok",
     "timestamp": 1685798203160,
     "user": {
      "displayName": "Priyam Saha",
      "userId": "06417421838738014072"
     },
     "user_tz": -330
    },
    "id": "333a58c1",
    "outputId": "4e5ddcca-0be9-4015-a2ac-a277d7868626"
   },
   "outputs": [],
   "source": [
    "# Our predictions\n",
    "plt.scatter(y_test,predictions)\n",
    "\n",
    "# Perfect predictions\n",
    "plt.plot(y_test,y_test,'r')"
   ]
  },
  {
   "cell_type": "markdown",
   "id": "cb552feb",
   "metadata": {
    "id": "cb552feb"
   },
   "source": [
    "<h2 style=\"color:cornflowerblue\">Predicting An Input</h2>"
   ]
  },
  {
   "cell_type": "code",
   "execution_count": null,
   "id": "01a10b7d",
   "metadata": {
    "colab": {
     "base_uri": "https://localhost:8080/"
    },
    "executionInfo": {
     "elapsed": 75,
     "status": "ok",
     "timestamp": 1685798203161,
     "user": {
      "displayName": "Priyam Saha",
      "userId": "06417421838738014072"
     },
     "user_tz": -330
    },
    "id": "01a10b7d",
    "outputId": "f41b537e-30be-4fa3-d5c0-fa7d1353bb5e"
   },
   "outputs": [],
   "source": [
    "type(df)"
   ]
  },
  {
   "cell_type": "code",
   "execution_count": null,
   "id": "ecb18b48",
   "metadata": {
    "colab": {
     "base_uri": "https://localhost:8080/"
    },
    "executionInfo": {
     "elapsed": 74,
     "status": "ok",
     "timestamp": 1685798203162,
     "user": {
      "displayName": "Priyam Saha",
      "userId": "06417421838738014072"
     },
     "user_tz": -330
    },
    "id": "ecb18b48",
    "outputId": "387e8817-3e1d-423e-c9c7-bc9187a17f8b"
   },
   "outputs": [],
   "source": [
    "type(X_test)"
   ]
  },
  {
   "cell_type": "code",
   "execution_count": null,
   "id": "fdf615ff",
   "metadata": {
    "executionInfo": {
     "elapsed": 72,
     "status": "ok",
     "timestamp": 1685798203163,
     "user": {
      "displayName": "Priyam Saha",
      "userId": "06417421838738014072"
     },
     "user_tz": -330
    },
    "id": "fdf615ff"
   },
   "outputs": [],
   "source": [
    "single_input = df.drop('car purchase amount',axis=1).iloc[0]"
   ]
  },
  {
   "cell_type": "code",
   "execution_count": null,
   "id": "5352dbad",
   "metadata": {
    "colab": {
     "base_uri": "https://localhost:8080/"
    },
    "executionInfo": {
     "elapsed": 71,
     "status": "ok",
     "timestamp": 1685798203163,
     "user": {
      "displayName": "Priyam Saha",
      "userId": "06417421838738014072"
     },
     "user_tz": -330
    },
    "id": "5352dbad",
    "outputId": "96109f49-d813-4fc4-b598-cb0e7c9d81bb"
   },
   "outputs": [],
   "source": [
    "single_input = scaler.transform(single_input.values.reshape(-1, 5))"
   ]
  },
  {
   "cell_type": "code",
   "execution_count": null,
   "id": "2fa79e2a",
   "metadata": {
    "colab": {
     "base_uri": "https://localhost:8080/"
    },
    "executionInfo": {
     "elapsed": 68,
     "status": "ok",
     "timestamp": 1685798203164,
     "user": {
      "displayName": "Priyam Saha",
      "userId": "06417421838738014072"
     },
     "user_tz": -330
    },
    "id": "2fa79e2a",
    "outputId": "4df88dd4-dfee-434e-f0ab-aa54887c6b1b"
   },
   "outputs": [],
   "source": [
    "type(single_input)"
   ]
  },
  {
   "cell_type": "code",
   "execution_count": null,
   "id": "4215dc67",
   "metadata": {
    "colab": {
     "base_uri": "https://localhost:8080/"
    },
    "executionInfo": {
     "elapsed": 66,
     "status": "ok",
     "timestamp": 1685798203165,
     "user": {
      "displayName": "Priyam Saha",
      "userId": "06417421838738014072"
     },
     "user_tz": -330
    },
    "id": "4215dc67",
    "outputId": "5dc5cec5-6dbf-465d-e0c9-e52044a61fbe"
   },
   "outputs": [],
   "source": [
    "model.predict(single_input)"
   ]
  },
  {
   "cell_type": "code",
   "execution_count": null,
   "id": "1cbfcfb4",
   "metadata": {
    "colab": {
     "base_uri": "https://localhost:8080/"
    },
    "executionInfo": {
     "elapsed": 62,
     "status": "ok",
     "timestamp": 1685798203166,
     "user": {
      "displayName": "Priyam Saha",
      "userId": "06417421838738014072"
     },
     "user_tz": -330
    },
    "id": "1cbfcfb4",
    "outputId": "3dfb8634-09ac-4f24-dfbd-55b4cb059f1d"
   },
   "outputs": [],
   "source": [
    "df.iloc[0]['car purchase amount']"
   ]
  },
  {
   "cell_type": "markdown",
   "id": "40c0bb76",
   "metadata": {
    "id": "40c0bb76"
   },
   "source": [
    "Another random input : "
   ]
  },
  {
   "cell_type": "code",
   "execution_count": null,
   "id": "6f441497",
   "metadata": {
    "colab": {
     "base_uri": "https://localhost:8080/"
    },
    "executionInfo": {
     "elapsed": 763,
     "status": "ok",
     "timestamp": 1685798203871,
     "user": {
      "displayName": "Priyam Saha",
      "userId": "06417421838738014072"
     },
     "user_tz": -330
    },
    "id": "6f441497",
    "outputId": "1cc0870d-f988-48d9-cbe8-325a5982b662"
   },
   "outputs": [],
   "source": [
    "X_random_sample = np.array([[1, 55, 65000, 11600, 562341]])\n",
    "y_predict = model.predict(X_random_sample)"
   ]
  },
  {
   "cell_type": "code",
   "execution_count": null,
   "id": "4d70ee77",
   "metadata": {
    "colab": {
     "base_uri": "https://localhost:8080/"
    },
    "executionInfo": {
     "elapsed": 88,
     "status": "ok",
     "timestamp": 1685798203872,
     "user": {
      "displayName": "Priyam Saha",
      "userId": "06417421838738014072"
     },
     "user_tz": -330
    },
    "id": "4d70ee77",
    "outputId": "27130b71-fc05-4165-eb1f-b729b7a64ca3"
   },
   "outputs": [],
   "source": [
    "print('Predicted Purchase Amount is =', y_predict[:,0])"
   ]
  },
  {
   "cell_type": "markdown",
   "id": "77114b41",
   "metadata": {
    "id": "77114b41"
   },
   "source": [
    "<h2 style=\"color:cornflowerblue\">Save the Model</h2>"
   ]
  },
  {
   "cell_type": "code",
   "execution_count": null,
   "id": "c4cce3bb",
   "metadata": {
    "executionInfo": {
     "elapsed": 85,
     "status": "ok",
     "timestamp": 1685798203873,
     "user": {
      "displayName": "Priyam Saha",
      "userId": "06417421838738014072"
     },
     "user_tz": -330
    },
    "id": "c4cce3bb"
   },
   "outputs": [],
   "source": [
    "model.save('Car_Sales_Price_Prediction.h5')"
   ]
  },
  {
   "cell_type": "code",
   "execution_count": null,
   "id": "21ecd0f7",
   "metadata": {
    "executionInfo": {
     "elapsed": 84,
     "status": "ok",
     "timestamp": 1685798203873,
     "user": {
      "displayName": "Priyam Saha",
      "userId": "06417421838738014072"
     },
     "user_tz": -330
    },
    "id": "21ecd0f7"
   },
   "outputs": [],
   "source": [
    "from tensorflow.keras.models import load_model"
   ]
  },
  {
   "cell_type": "code",
   "execution_count": null,
   "id": "af3a2242",
   "metadata": {
    "executionInfo": {
     "elapsed": 84,
     "status": "ok",
     "timestamp": 1685798203874,
     "user": {
      "displayName": "Priyam Saha",
      "userId": "06417421838738014072"
     },
     "user_tz": -330
    },
    "id": "af3a2242"
   },
   "outputs": [],
   "source": [
    "loaded_model = load_model('Car_Sales_Price_Prediction.h5')"
   ]
  },
  {
   "cell_type": "code",
   "execution_count": null,
   "id": "2f6db976",
   "metadata": {
    "colab": {
     "base_uri": "https://localhost:8080/"
    },
    "executionInfo": {
     "elapsed": 84,
     "status": "ok",
     "timestamp": 1685798203875,
     "user": {
      "displayName": "Priyam Saha",
      "userId": "06417421838738014072"
     },
     "user_tz": -330
    },
    "id": "2f6db976",
    "outputId": "e1791337-c108-435a-aa3e-f542e3daed7a"
   },
   "outputs": [],
   "source": [
    "loaded_model.summary()\n"
   ]
  },
  {
   "cell_type": "code",
   "execution_count": null,
   "id": "e9b98c94",
   "metadata": {
    "colab": {
     "base_uri": "https://localhost:8080/",
     "height": 1000
    },
    "executionInfo": {
     "elapsed": 9861,
     "status": "ok",
     "timestamp": 1685798286789,
     "user": {
      "displayName": "Priyam Saha",
      "userId": "06417421838738014072"
     },
     "user_tz": -330
    },
    "id": "e9b98c94",
    "outputId": "0213e724-490a-4315-b62a-f7ef0ad2f581"
   },
   "outputs": [],
   "source": [
    "!pip3 install tensorflowjs"
   ]
  },
  {
   "cell_type": "code",
   "execution_count": null,
   "id": "bad8823f",
   "metadata": {
    "executionInfo": {
     "elapsed": 511,
     "status": "ok",
     "timestamp": 1685798294813,
     "user": {
      "displayName": "Priyam Saha",
      "userId": "06417421838738014072"
     },
     "user_tz": -330
    },
    "id": "bad8823f"
   },
   "outputs": [],
   "source": [
    "import tensorflowjs as tfjs"
   ]
  },
  {
   "cell_type": "code",
   "execution_count": null,
   "id": "5a6a303a",
   "metadata": {
    "executionInfo": {
     "elapsed": 521,
     "status": "ok",
     "timestamp": 1685798297058,
     "user": {
      "displayName": "Priyam Saha",
      "userId": "06417421838738014072"
     },
     "user_tz": -330
    },
    "id": "5a6a303a"
   },
   "outputs": [],
   "source": [
    "tfjs.converters.save_keras_model(model,'models')"
   ]
  },
  {
   "cell_type": "code",
   "execution_count": null,
   "id": "UNURPgb0Zo1o",
   "metadata": {
    "id": "UNURPgb0Zo1o"
   },
   "outputs": [],
   "source": []
  },
  {
   "cell_type": "code",
   "execution_count": null,
   "id": "329c9c0e",
   "metadata": {},
   "outputs": [],
   "source": []
  }
 ],
 "metadata": {
  "colab": {
   "provenance": []
  },
  "kernelspec": {
   "display_name": "Python 3 (ipykernel)",
   "language": "python",
   "name": "python3"
  },
  "language_info": {
   "codemirror_mode": {
    "name": "ipython",
    "version": 3
   },
   "file_extension": ".py",
   "mimetype": "text/x-python",
   "name": "python",
   "nbconvert_exporter": "python",
   "pygments_lexer": "ipython3",
   "version": "3.9.13"
  }
 },
 "nbformat": 4,
 "nbformat_minor": 5
}
